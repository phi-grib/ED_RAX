{
 "cells": [
  {
   "cell_type": "code",
   "execution_count": 1,
   "metadata": {},
   "outputs": [
    {
     "name": "stderr",
     "output_type": "stream",
     "text": [
      "\n",
      "*** CompoundDB module found. Will check the synonyms table to resolve CAS. ***\n",
      "\n"
     ]
    }
   ],
   "source": [
    "import numpy as np\n",
    "import pandas as pd\n",
    "\n",
    "from rdkit import Chem\n",
    "from rdkit.Chem import AllChem\n",
    "from rdkit import DataStructs\n",
    "from rdkit.Chem.Fingerprints import FingerprintMols\n",
    "from rdkit.Chem import PandasTools\n",
    "\n",
    "from UpdateDB import Connect_CII as connector\n",
    "from UpdateDB import Dataset_selection as datasel"
   ]
  },
  {
   "cell_type": "code",
   "execution_count": 2,
   "metadata": {},
   "outputs": [
    {
     "data": {
      "text/plain": [
       "<connection object at 0x7f85103bf048; dsn: 'user=postgres password=xxx dbname=cii_pharos_updated host=localhost', closed: 0>"
      ]
     },
     "execution_count": 2,
     "metadata": {},
     "output_type": "execute_result"
    }
   ],
   "source": [
    "conn = connector.Connector(host = '', dbname='', user='', password='')\n",
    "conn.open_connection()"
   ]
  },
  {
   "cell_type": "code",
   "execution_count": 3,
   "metadata": {},
   "outputs": [],
   "source": [
    "sub_df = pd.read_sql_query(\"\"\"SELECT class_name_curated, preferred_name_curated, mol_formula_curated, \n",
    "                            str.\"structure_curated\", st.type, ep.cmr, ep.pbt, ep.vpvb, \n",
    "                            ep.sensitiser, ep.endocrine_disruptor\n",
    "                            FROM substance sub\n",
    "                            left join substance_structure str on str.subs_id = sub.id\n",
    "                            left join endpoint_annotation ep on ep.subs_id = sub.id\n",
    "                            left join substance_type st on st.id = str.substance_type_id\n",
    "                            where str.\"structure_curated\" is not null  \n",
    "                            order by sub.id ASC\"\"\", conn.conn)\n",
    "sub_df.loc[sub_df['preferred_name_curated'].isna(),'preferred_name_curated'] = sub_df.loc[sub_df['preferred_name_curated'].isna(),'class_name_curated']\n",
    "sub_df.drop('class_name_curated', axis=1, inplace=True)\n",
    "sub_df.rename(columns={'preferred_name_curated':'name'},inplace = True)"
   ]
  },
  {
   "cell_type": "code",
   "execution_count": 4,
   "metadata": {},
   "outputs": [],
   "source": [
    "sub_df = sub_df.loc[~sub_df['type'].isin(['organometallic','no_sanitizable', 'inorganic_salt', 'inorganic','inorganic_metal'])]"
   ]
  },
  {
   "cell_type": "code",
   "execution_count": 5,
   "metadata": {},
   "outputs": [],
   "source": [
    "ed = sub_df[['name','mol_formula_curated','structure_curated','endocrine_disruptor']]"
   ]
  },
  {
   "cell_type": "code",
   "execution_count": 6,
   "metadata": {},
   "outputs": [
    {
     "name": "stderr",
     "output_type": "stream",
     "text": [
      "/home/emarch/miniconda3/envs/inditex/lib/python3.7/site-packages/pandas/core/indexing.py:362: SettingWithCopyWarning: \n",
      "A value is trying to be set on a copy of a slice from a DataFrame.\n",
      "Try using .loc[row_indexer,col_indexer] = value instead\n",
      "\n",
      "See the caveats in the documentation: http://pandas.pydata.org/pandas-docs/stable/indexing.html#indexing-view-versus-copy\n",
      "  self.obj[key] = _infer_fill_value(value)\n",
      "/home/emarch/miniconda3/envs/inditex/lib/python3.7/site-packages/pandas/core/indexing.py:543: SettingWithCopyWarning: \n",
      "A value is trying to be set on a copy of a slice from a DataFrame.\n",
      "Try using .loc[row_indexer,col_indexer] = value instead\n",
      "\n",
      "See the caveats in the documentation: http://pandas.pydata.org/pandas-docs/stable/indexing.html#indexing-view-versus-copy\n",
      "  self.obj[item] = s\n"
     ]
    }
   ],
   "source": [
    "ed.loc[ed['endocrine_disruptor'].isin(['YES','Pending']), 'activity'] = 1\n",
    "ed.loc[ed['endocrine_disruptor'].isin(['NO','No information']), 'activity'] = 0"
   ]
  },
  {
   "cell_type": "code",
   "execution_count": 7,
   "metadata": {},
   "outputs": [
    {
     "name": "stderr",
     "output_type": "stream",
     "text": [
      "/home/emarch/miniconda3/envs/inditex/lib/python3.7/site-packages/ipykernel_launcher.py:1: SettingWithCopyWarning: \n",
      "A value is trying to be set on a copy of a slice from a DataFrame.\n",
      "Try using .loc[row_indexer,col_indexer] = value instead\n",
      "\n",
      "See the caveats in the documentation: http://pandas.pydata.org/pandas-docs/stable/indexing.html#indexing-view-versus-copy\n",
      "  \"\"\"Entry point for launching an IPython kernel.\n"
     ]
    }
   ],
   "source": [
    "ed['activity'] = ed['activity'].astype(int)"
   ]
  },
  {
   "cell_type": "code",
   "execution_count": 8,
   "metadata": {},
   "outputs": [],
   "source": [
    "def canon_smi(x):\n",
    "    try:\n",
    "        cs = Chem.CanonSmiles(x)\n",
    "    except:\n",
    "        cs = None\n",
    "    return cs"
   ]
  },
  {
   "cell_type": "code",
   "execution_count": 9,
   "metadata": {},
   "outputs": [
    {
     "name": "stderr",
     "output_type": "stream",
     "text": [
      "RDKit WARNING: [16:32:25] WARNING: not removing hydrogen atom without neighbors\n",
      "RDKit WARNING: [16:32:25] WARNING: not removing hydrogen atom without neighbors\n",
      "RDKit WARNING: [16:32:25] WARNING: not removing hydrogen atom without neighbors\n",
      "RDKit WARNING: [16:32:25] WARNING: not removing hydrogen atom without neighbors\n",
      "RDKit WARNING: [16:32:25] WARNING: not removing hydrogen atom without neighbors\n",
      "RDKit WARNING: [16:32:25] WARNING: not removing hydrogen atom without neighbors\n",
      "RDKit WARNING: [16:32:25] WARNING: not removing hydrogen atom without neighbors\n",
      "RDKit WARNING: [16:32:25] WARNING: not removing hydrogen atom without neighbors\n",
      "RDKit ERROR: [16:32:25] Explicit valence for atom # 12 O, 3, is greater than permitted\n",
      "RDKit WARNING: [16:32:25] WARNING: not removing hydrogen atom without neighbors\n",
      "RDKit WARNING: [16:32:25] WARNING: not removing hydrogen atom without neighbors\n",
      "RDKit WARNING: [16:32:25] WARNING: not removing hydrogen atom without neighbors\n",
      "RDKit ERROR: [16:32:25] Explicit valence for atom # 11 O, 3, is greater than permitted\n",
      "RDKit WARNING: [16:32:25] WARNING: not removing hydrogen atom without neighbors\n",
      "RDKit WARNING: [16:32:25] WARNING: not removing hydrogen atom without neighbors\n",
      "RDKit WARNING: [16:32:25] WARNING: not removing hydrogen atom without neighbors\n"
     ]
    }
   ],
   "source": [
    "ed.loc[:, 'canon_smiles'] = ed.loc[:,'structure_curated'].apply(lambda x: canon_smi(x))"
   ]
  },
  {
   "cell_type": "code",
   "execution_count": 10,
   "metadata": {},
   "outputs": [
    {
     "name": "stderr",
     "output_type": "stream",
     "text": [
      "RDKit WARNING: [16:32:25] WARNING: not removing hydrogen atom without neighbors\n",
      "RDKit WARNING: [16:32:25] WARNING: not removing hydrogen atom without neighbors\n",
      "RDKit WARNING: [16:32:25] WARNING: not removing hydrogen atom without neighbors\n",
      "RDKit WARNING: [16:32:25] WARNING: not removing hydrogen atom without neighbors\n",
      "RDKit WARNING: [16:32:25] WARNING: not removing hydrogen atom without neighbors\n",
      "RDKit WARNING: [16:32:25] WARNING: not removing hydrogen atom without neighbors\n",
      "RDKit WARNING: [16:32:26] WARNING: not removing hydrogen atom without neighbors\n",
      "RDKit WARNING: [16:32:26] WARNING: not removing hydrogen atom without neighbors\n",
      "RDKit WARNING: [16:32:26] WARNING: not removing hydrogen atom without neighbors\n",
      "RDKit WARNING: [16:32:26] WARNING: not removing hydrogen atom without neighbors\n",
      "RDKit WARNING: [16:32:26] WARNING: not removing hydrogen atom without neighbors\n",
      "RDKit WARNING: [16:32:26] WARNING: not removing hydrogen atom without neighbors\n",
      "RDKit WARNING: [16:32:26] WARNING: not removing hydrogen atom without neighbors\n"
     ]
    }
   ],
   "source": [
    "ed.loc[~ed['canon_smiles'].isna(),'mols_rdkit'] = ed.loc[~ed['canon_smiles'].isna(),'canon_smiles'].apply(lambda x: Chem.MolFromSmiles(x))"
   ]
  },
  {
   "cell_type": "code",
   "execution_count": 11,
   "metadata": {},
   "outputs": [],
   "source": [
    "ed.loc[~ed['canon_smiles'].isna(),'fps'] = ed.loc[~ed['canon_smiles'].isna(),'mols_rdkit'].apply(lambda x: FingerprintMols.FingerprintMol(x))"
   ]
  },
  {
   "cell_type": "code",
   "execution_count": 12,
   "metadata": {},
   "outputs": [],
   "source": [
    "clean_ed = ed[~ed['fps'].isna()]"
   ]
  },
  {
   "cell_type": "code",
   "execution_count": 13,
   "metadata": {},
   "outputs": [
    {
     "data": {
      "text/html": [
       "<div>\n",
       "<style scoped>\n",
       "    .dataframe tbody tr th:only-of-type {\n",
       "        vertical-align: middle;\n",
       "    }\n",
       "\n",
       "    .dataframe tbody tr th {\n",
       "        vertical-align: top;\n",
       "    }\n",
       "\n",
       "    .dataframe thead th {\n",
       "        text-align: right;\n",
       "    }\n",
       "</style>\n",
       "<table border=\"1\" class=\"dataframe\">\n",
       "  <thead>\n",
       "    <tr style=\"text-align: right;\">\n",
       "      <th></th>\n",
       "      <th>name</th>\n",
       "      <th>mol_formula_curated</th>\n",
       "      <th>structure_curated</th>\n",
       "      <th>endocrine_disruptor</th>\n",
       "      <th>activity</th>\n",
       "      <th>canon_smiles</th>\n",
       "      <th>mols_rdkit</th>\n",
       "      <th>fps</th>\n",
       "    </tr>\n",
       "  </thead>\n",
       "  <tbody>\n",
       "    <tr>\n",
       "      <th>0</th>\n",
       "      <td>Formaldehyde</td>\n",
       "      <td>CH2O</td>\n",
       "      <td>OCO</td>\n",
       "      <td>No information</td>\n",
       "      <td>0</td>\n",
       "      <td>OCO</td>\n",
       "      <td>&lt;img data-content=\"rdkit/molecule\" src=\"data:i...</td>\n",
       "      <td>[0, 0, 0, 0, 0, 0, 0, 0, 0, 0, 0, 0, 0, 0, 0, ...</td>\n",
       "    </tr>\n",
       "    <tr>\n",
       "      <th>1</th>\n",
       "      <td>Formaldehyde</td>\n",
       "      <td>CH2O</td>\n",
       "      <td>C=O</td>\n",
       "      <td>No information</td>\n",
       "      <td>0</td>\n",
       "      <td>C=O</td>\n",
       "      <td>&lt;img data-content=\"rdkit/molecule\" src=\"data:i...</td>\n",
       "      <td>[0, 0, 0, 0, 0, 0, 0, 0, 0, 0, 0, 0, 0, 0, 0, ...</td>\n",
       "    </tr>\n",
       "    <tr>\n",
       "      <th>2</th>\n",
       "      <td>N,N-Dimethylformamide</td>\n",
       "      <td>C3H7NO</td>\n",
       "      <td>CN(C)C=O</td>\n",
       "      <td>YES</td>\n",
       "      <td>1</td>\n",
       "      <td>CN(C)C=O</td>\n",
       "      <td>&lt;img data-content=\"rdkit/molecule\" src=\"data:i...</td>\n",
       "      <td>[0, 1, 0, 0, 0, 0, 0, 0, 0, 0, 0, 0, 0, 0, 1, ...</td>\n",
       "    </tr>\n",
       "    <tr>\n",
       "      <th>3</th>\n",
       "      <td>Quinoline</td>\n",
       "      <td>C9H7N</td>\n",
       "      <td>c1ccc2ncccc2c1</td>\n",
       "      <td>No information</td>\n",
       "      <td>0</td>\n",
       "      <td>c1ccc2ncccc2c1</td>\n",
       "      <td>&lt;img data-content=\"rdkit/molecule\" src=\"data:i...</td>\n",
       "      <td>[1, 0, 1, 1, 1, 1, 0, 1, 1, 0, 1, 1, 0, 1, 1, ...</td>\n",
       "    </tr>\n",
       "    <tr>\n",
       "      <th>4</th>\n",
       "      <td>N-Nitrosodimethylamine</td>\n",
       "      <td>C2H6N2O</td>\n",
       "      <td>CN(C)N=O</td>\n",
       "      <td>No information</td>\n",
       "      <td>0</td>\n",
       "      <td>CN(C)N=O</td>\n",
       "      <td>&lt;img data-content=\"rdkit/molecule\" src=\"data:i...</td>\n",
       "      <td>[0, 1, 0, 0, 0, 0, 0, 0, 0, 0, 0, 1, 0, 1, 0, ...</td>\n",
       "    </tr>\n",
       "  </tbody>\n",
       "</table>\n",
       "</div>"
      ],
      "text/plain": [
       "                     name mol_formula_curated structure_curated  \\\n",
       "0            Formaldehyde                CH2O               OCO   \n",
       "1            Formaldehyde                CH2O               C=O   \n",
       "2   N,N-Dimethylformamide              C3H7NO          CN(C)C=O   \n",
       "3               Quinoline               C9H7N    c1ccc2ncccc2c1   \n",
       "4  N-Nitrosodimethylamine             C2H6N2O          CN(C)N=O   \n",
       "\n",
       "  endocrine_disruptor  activity    canon_smiles  \\\n",
       "0      No information         0             OCO   \n",
       "1      No information         0             C=O   \n",
       "2                 YES         1        CN(C)C=O   \n",
       "3      No information         0  c1ccc2ncccc2c1   \n",
       "4      No information         0        CN(C)N=O   \n",
       "\n",
       "                                          mols_rdkit  \\\n",
       "0  <img data-content=\"rdkit/molecule\" src=\"data:i...   \n",
       "1  <img data-content=\"rdkit/molecule\" src=\"data:i...   \n",
       "2  <img data-content=\"rdkit/molecule\" src=\"data:i...   \n",
       "3  <img data-content=\"rdkit/molecule\" src=\"data:i...   \n",
       "4  <img data-content=\"rdkit/molecule\" src=\"data:i...   \n",
       "\n",
       "                                                 fps  \n",
       "0  [0, 0, 0, 0, 0, 0, 0, 0, 0, 0, 0, 0, 0, 0, 0, ...  \n",
       "1  [0, 0, 0, 0, 0, 0, 0, 0, 0, 0, 0, 0, 0, 0, 0, ...  \n",
       "2  [0, 1, 0, 0, 0, 0, 0, 0, 0, 0, 0, 0, 0, 0, 1, ...  \n",
       "3  [1, 0, 1, 1, 1, 1, 0, 1, 1, 0, 1, 1, 0, 1, 1, ...  \n",
       "4  [0, 1, 0, 0, 0, 0, 0, 0, 0, 0, 0, 1, 0, 1, 0, ...  "
      ]
     },
     "execution_count": 13,
     "metadata": {},
     "output_type": "execute_result"
    }
   ],
   "source": [
    "clean_ed.head()"
   ]
  },
  {
   "cell_type": "code",
   "execution_count": 14,
   "metadata": {},
   "outputs": [
    {
     "data": {
      "text/plain": [
       "187"
      ]
     },
     "execution_count": 14,
     "metadata": {},
     "output_type": "execute_result"
    }
   ],
   "source": [
    "len(clean_ed[clean_ed['activity'] == 1])"
   ]
  },
  {
   "cell_type": "code",
   "execution_count": 15,
   "metadata": {},
   "outputs": [
    {
     "name": "stdout",
     "output_type": "stream",
     "text": [
      "<rdkit.DataStructs.cDataStructs.ExplicitBitVect object at 0x7f850fa43120>\n",
      "CPU times: user 5.87 ms, sys: 1.04 ms, total: 6.9 ms\n",
      "Wall time: 5.57 ms\n"
     ]
    }
   ],
   "source": [
    "%%time\n",
    "comparison_dict = {'name':[],'name_structure':[], 'target_name':[],'target_structure':[],'activity':[],'target_activity':[],'similarity':[]}\n",
    "index_to_avoid = []\n",
    "for i, row in clean_ed.iterrows():\n",
    "    name = row['name']\n",
    "    struc = row['canon_smiles']\n",
    "    activity = row['activity']\n",
    "    fps = row['fps']\n",
    "    index_to_avoid.append(i)\n",
    "    fps_to_compare = clean_ed.loc[~clean_ed.index.isin(index_to_avoid),'fps'].values\n",
    "    index_to_consider = clean_ed.loc[~clean_ed.index.isin(index_to_avoid),:].index\n",
    "    try:\n",
    "        s = DataStructs.BulkTanimotoSimilarity(fps, fps_to_compare)\n",
    "    except TypeError:\n",
    "        print(clean_ed[clean_ed.index.isin([i])])\n",
    "        raise\n",
    "    for sim,idx in zip(s,index_to_consider):\n",
    "        comparison_dict['name'].append(name)\n",
    "        comparison_dict['name_structure'].append(struc)\n",
    "        comparison_dict['target_name'].append(clean_ed.loc[clean_ed.index.isin([idx]),'name'].values[0])\n",
    "        comparison_dict['target_structure'].append(clean_ed.loc[clean_ed.index.isin([idx]),'canon_smiles'].values[0])\n",
    "        comparison_dict['activity'].append(activity)\n",
    "        comparison_dict['target_activity'].append(clean_ed.loc[clean_ed.index.isin([idx]),'activity'].values[0])\n",
    "        comparison_dict['similarity'].append(sim)"
   ]
  },
  {
   "cell_type": "code",
   "execution_count": 16,
   "metadata": {},
   "outputs": [],
   "source": [
    "comp_df = pd.DataFrame(data=comparison_dict)\n",
    "comp_df = comp_df.sort_values(by=['name','similarity'], ascending=False)"
   ]
  },
  {
   "cell_type": "code",
   "execution_count": 22,
   "metadata": {},
   "outputs": [],
   "source": [
    "comp_df.to_pickle('ED_similarity.pkl')"
   ]
  },
  {
   "cell_type": "code",
   "execution_count": 23,
   "metadata": {},
   "outputs": [],
   "source": [
    "comp_df = pd.read_pickle('ED_similarity.pkl')"
   ]
  },
  {
   "cell_type": "code",
   "execution_count": 24,
   "metadata": {},
   "outputs": [
    {
     "data": {
      "text/html": [
       "<div>\n",
       "<style scoped>\n",
       "    .dataframe tbody tr th:only-of-type {\n",
       "        vertical-align: middle;\n",
       "    }\n",
       "\n",
       "    .dataframe tbody tr th {\n",
       "        vertical-align: top;\n",
       "    }\n",
       "\n",
       "    .dataframe thead th {\n",
       "        text-align: right;\n",
       "    }\n",
       "</style>\n",
       "<table border=\"1\" class=\"dataframe\">\n",
       "  <thead>\n",
       "    <tr style=\"text-align: right;\">\n",
       "      <th></th>\n",
       "      <th>name</th>\n",
       "      <th>name_structure</th>\n",
       "      <th>target_name</th>\n",
       "      <th>target_structure</th>\n",
       "      <th>activity</th>\n",
       "      <th>target_activity</th>\n",
       "      <th>similarity</th>\n",
       "    </tr>\n",
       "  </thead>\n",
       "  <tbody>\n",
       "    <tr>\n",
       "      <th>649446</th>\n",
       "      <td>γ-HCH or γ-BHC</td>\n",
       "      <td>ClC1C(Cl)C(Cl)C(Cl)C(Cl)C1Cl</td>\n",
       "      <td>(1α,2β,3α,4β,5α,6β)-1,2,3,4,5,6-Hexachlorocycl...</td>\n",
       "      <td>ClC1C(Cl)C(Cl)C(Cl)C(Cl)C1Cl</td>\n",
       "      <td>1</td>\n",
       "      <td>1</td>\n",
       "      <td>1.000000</td>\n",
       "    </tr>\n",
       "    <tr>\n",
       "      <th>649447</th>\n",
       "      <td>γ-HCH or γ-BHC</td>\n",
       "      <td>ClC1C(Cl)C(Cl)C(Cl)C(Cl)C1Cl</td>\n",
       "      <td>(1α,2α,3α,4β,5α,6β)-1,2,3,4,5,6-Hexachlorocycl...</td>\n",
       "      <td>ClC1C(Cl)C(Cl)C(Cl)C(Cl)C1Cl</td>\n",
       "      <td>1</td>\n",
       "      <td>1</td>\n",
       "      <td>1.000000</td>\n",
       "    </tr>\n",
       "    <tr>\n",
       "      <th>652070</th>\n",
       "      <td>γ-HCH or γ-BHC</td>\n",
       "      <td>ClC1C(Cl)C(Cl)C(Cl)C(Cl)C1Cl</td>\n",
       "      <td>Chlorinated paraffins</td>\n",
       "      <td>CCCC(Cl)CCCC(Cl)CCC(Cl)CCC(Cl)CCC(Cl)CCCC(Cl)CCC</td>\n",
       "      <td>1</td>\n",
       "      <td>0</td>\n",
       "      <td>0.589041</td>\n",
       "    </tr>\n",
       "    <tr>\n",
       "      <th>652363</th>\n",
       "      <td>γ-HCH or γ-BHC</td>\n",
       "      <td>ClC1C(Cl)C(Cl)C(Cl)C(Cl)C1Cl</td>\n",
       "      <td>chlorocyclohexane</td>\n",
       "      <td>ClC1CCCCC1</td>\n",
       "      <td>1</td>\n",
       "      <td>0</td>\n",
       "      <td>0.588235</td>\n",
       "    </tr>\n",
       "    <tr>\n",
       "      <th>651334</th>\n",
       "      <td>γ-HCH or γ-BHC</td>\n",
       "      <td>ClC1C(Cl)C(Cl)C(Cl)C(Cl)C1Cl</td>\n",
       "      <td>2-Hexanone, 6-chloro-</td>\n",
       "      <td>CC(=O)CCCCCl</td>\n",
       "      <td>1</td>\n",
       "      <td>0</td>\n",
       "      <td>0.566038</td>\n",
       "    </tr>\n",
       "  </tbody>\n",
       "</table>\n",
       "</div>"
      ],
      "text/plain": [
       "                  name                name_structure  \\\n",
       "649446  γ-HCH or γ-BHC  ClC1C(Cl)C(Cl)C(Cl)C(Cl)C1Cl   \n",
       "649447  γ-HCH or γ-BHC  ClC1C(Cl)C(Cl)C(Cl)C(Cl)C1Cl   \n",
       "652070  γ-HCH or γ-BHC  ClC1C(Cl)C(Cl)C(Cl)C(Cl)C1Cl   \n",
       "652363  γ-HCH or γ-BHC  ClC1C(Cl)C(Cl)C(Cl)C(Cl)C1Cl   \n",
       "651334  γ-HCH or γ-BHC  ClC1C(Cl)C(Cl)C(Cl)C(Cl)C1Cl   \n",
       "\n",
       "                                              target_name  \\\n",
       "649446  (1α,2β,3α,4β,5α,6β)-1,2,3,4,5,6-Hexachlorocycl...   \n",
       "649447  (1α,2α,3α,4β,5α,6β)-1,2,3,4,5,6-Hexachlorocycl...   \n",
       "652070                              Chlorinated paraffins   \n",
       "652363                                  chlorocyclohexane   \n",
       "651334                              2-Hexanone, 6-chloro-   \n",
       "\n",
       "                                        target_structure  activity  \\\n",
       "649446                      ClC1C(Cl)C(Cl)C(Cl)C(Cl)C1Cl         1   \n",
       "649447                      ClC1C(Cl)C(Cl)C(Cl)C(Cl)C1Cl         1   \n",
       "652070  CCCC(Cl)CCCC(Cl)CCC(Cl)CCC(Cl)CCC(Cl)CCCC(Cl)CCC         1   \n",
       "652363                                        ClC1CCCCC1         1   \n",
       "651334                                      CC(=O)CCCCCl         1   \n",
       "\n",
       "        target_activity  similarity  \n",
       "649446                1    1.000000  \n",
       "649447                1    1.000000  \n",
       "652070                0    0.589041  \n",
       "652363                0    0.588235  \n",
       "651334                0    0.566038  "
      ]
     },
     "execution_count": 24,
     "metadata": {},
     "output_type": "execute_result"
    }
   ],
   "source": [
    "comp_df.head()"
   ]
  },
  {
   "cell_type": "code",
   "execution_count": 25,
   "metadata": {},
   "outputs": [
    {
     "data": {
      "text/plain": [
       "173"
      ]
     },
     "execution_count": 25,
     "metadata": {},
     "output_type": "execute_result"
    }
   ],
   "source": [
    "len(comp_df.loc[comp_df['activity'] == 1, 'name'].drop_duplicates())"
   ]
  },
  {
   "cell_type": "code",
   "execution_count": 26,
   "metadata": {},
   "outputs": [
    {
     "data": {
      "text/plain": [
       "3203"
      ]
     },
     "execution_count": 26,
     "metadata": {},
     "output_type": "execute_result"
    }
   ],
   "source": [
    "len(comp_df.loc[comp_df['target_activity'] == 0, 'target_name'].drop_duplicates())"
   ]
  },
  {
   "cell_type": "code",
   "execution_count": 27,
   "metadata": {},
   "outputs": [
    {
     "data": {
      "text/plain": [
       "3374"
      ]
     },
     "execution_count": 27,
     "metadata": {},
     "output_type": "execute_result"
    }
   ],
   "source": [
    "len(comp_df['name'].drop_duplicates())"
   ]
  },
  {
   "cell_type": "code",
   "execution_count": 28,
   "metadata": {},
   "outputs": [],
   "source": [
    "df_optimal = comp_df.loc[(comp_df['similarity'] > 0.8) &\n",
    "                         (comp_df['similarity'] < 1.0) &\n",
    "                         (comp_df['activity'] == 1) &\n",
    "                         (comp_df['target_activity'] == 0)]"
   ]
  },
  {
   "cell_type": "code",
   "execution_count": 29,
   "metadata": {},
   "outputs": [],
   "source": [
    "df_pos_sel = comp_df.loc[(comp_df['similarity'] > 0.8) &\n",
    "                         (comp_df['similarity'] < 1.0) &\n",
    "                         (comp_df['activity'] == 0) &\n",
    "                         (comp_df['target_activity'] == 1)]"
   ]
  },
  {
   "cell_type": "code",
   "execution_count": 30,
   "metadata": {},
   "outputs": [],
   "source": [
    "df_not_similar = comp_df.loc[(comp_df['similarity'] < 0.4) &\n",
    "                         (comp_df['activity'] == 1) &\n",
    "                         (comp_df['target_activity'] == 0)]"
   ]
  },
  {
   "cell_type": "code",
   "execution_count": 31,
   "metadata": {},
   "outputs": [
    {
     "data": {
      "text/html": [
       "<div>\n",
       "<style scoped>\n",
       "    .dataframe tbody tr th:only-of-type {\n",
       "        vertical-align: middle;\n",
       "    }\n",
       "\n",
       "    .dataframe tbody tr th {\n",
       "        vertical-align: top;\n",
       "    }\n",
       "\n",
       "    .dataframe thead th {\n",
       "        text-align: right;\n",
       "    }\n",
       "</style>\n",
       "<table border=\"1\" class=\"dataframe\">\n",
       "  <thead>\n",
       "    <tr style=\"text-align: right;\">\n",
       "      <th></th>\n",
       "      <th>name</th>\n",
       "      <th>mol_formula_curated</th>\n",
       "      <th>structure_curated</th>\n",
       "      <th>endocrine_disruptor</th>\n",
       "      <th>activity</th>\n",
       "      <th>canon_smiles</th>\n",
       "      <th>mols_rdkit</th>\n",
       "      <th>fps</th>\n",
       "    </tr>\n",
       "  </thead>\n",
       "  <tbody>\n",
       "    <tr>\n",
       "      <th>2652</th>\n",
       "      <td>Dimethylcarbamoyl chloride</td>\n",
       "      <td>C3H6ClNO</td>\n",
       "      <td>CN(C)C(=O)Cl</td>\n",
       "      <td>NO</td>\n",
       "      <td>0</td>\n",
       "      <td>CN(C)C(=O)Cl</td>\n",
       "      <td>&lt;img data-content=\"rdkit/molecule\" src=\"data:i...</td>\n",
       "      <td>[0, 1, 1, 0, 0, 0, 0, 0, 0, 0, 0, 0, 0, 0, 1, ...</td>\n",
       "    </tr>\n",
       "    <tr>\n",
       "      <th>3687</th>\n",
       "      <td>Terpineol</td>\n",
       "      <td>C10H18O</td>\n",
       "      <td>CC1=CCC(C(C)(C)O)CC1</td>\n",
       "      <td>NO</td>\n",
       "      <td>0</td>\n",
       "      <td>CC1=CCC(C(C)(C)O)CC1</td>\n",
       "      <td>&lt;img data-content=\"rdkit/molecule\" src=\"data:i...</td>\n",
       "      <td>[0, 0, 0, 0, 0, 0, 1, 0, 1, 0, 1, 0, 1, 0, 0, ...</td>\n",
       "    </tr>\n",
       "  </tbody>\n",
       "</table>\n",
       "</div>"
      ],
      "text/plain": [
       "                            name mol_formula_curated     structure_curated  \\\n",
       "2652  Dimethylcarbamoyl chloride            C3H6ClNO          CN(C)C(=O)Cl   \n",
       "3687                   Terpineol             C10H18O  CC1=CCC(C(C)(C)O)CC1   \n",
       "\n",
       "     endocrine_disruptor  activity          canon_smiles  \\\n",
       "2652                  NO         0          CN(C)C(=O)Cl   \n",
       "3687                  NO         0  CC1=CCC(C(C)(C)O)CC1   \n",
       "\n",
       "                                             mols_rdkit  \\\n",
       "2652  <img data-content=\"rdkit/molecule\" src=\"data:i...   \n",
       "3687  <img data-content=\"rdkit/molecule\" src=\"data:i...   \n",
       "\n",
       "                                                    fps  \n",
       "2652  [0, 1, 1, 0, 0, 0, 0, 0, 0, 0, 0, 0, 0, 0, 1, ...  \n",
       "3687  [0, 0, 0, 0, 0, 0, 1, 0, 1, 0, 1, 0, 1, 0, 0, ...  "
      ]
     },
     "execution_count": 31,
     "metadata": {},
     "output_type": "execute_result"
    }
   ],
   "source": [
    "ed[ed['endocrine_disruptor'] == 'NO']"
   ]
  },
  {
   "cell_type": "code",
   "execution_count": 32,
   "metadata": {},
   "outputs": [],
   "source": [
    "comp_df[(comp_df['name'].isin(ed.loc[ed['endocrine_disruptor'] == 'NO','name'])) &\n",
    "        (comp_df['target_activity'] == 0)].sort_values(by=['similarity'], ascending=False)"
   ]
  },
  {
   "cell_type": "code",
   "execution_count": 33,
   "metadata": {},
   "outputs": [],
   "source": [
    "df_optimal.to_excel('ED_RAX_results_similairty_ht_0.8.xlsx')"
   ]
  },
  {
   "cell_type": "code",
   "execution_count": 34,
   "metadata": {},
   "outputs": [
    {
     "data": {
      "text/plain": [
       "52"
      ]
     },
     "execution_count": 34,
     "metadata": {},
     "output_type": "execute_result"
    }
   ],
   "source": [
    "len(df_optimal.loc[df_optimal['activity'] == 1, 'name'].drop_duplicates())"
   ]
  },
  {
   "cell_type": "code",
   "execution_count": 35,
   "metadata": {},
   "outputs": [
    {
     "data": {
      "text/plain": [
       "76"
      ]
     },
     "execution_count": 35,
     "metadata": {},
     "output_type": "execute_result"
    }
   ],
   "source": [
    "len(df_optimal.loc[df_optimal['target_activity'] == 0, 'target_name'].drop_duplicates())"
   ]
  },
  {
   "cell_type": "code",
   "execution_count": 36,
   "metadata": {},
   "outputs": [],
   "source": [
    "not_sim_sample = df_not_similar.loc[df_not_similar['target_activity'] == 0, 'target_name'].drop_duplicates().sample(16).values"
   ]
  },
  {
   "cell_type": "code",
   "execution_count": 37,
   "metadata": {},
   "outputs": [],
   "source": [
    "not_sim_selection = df_not_similar.loc[df_not_similar['target_name'].isin(not_sim_sample),:].sort_values(by=['target_name'])"
   ]
  },
  {
   "cell_type": "code",
   "execution_count": 38,
   "metadata": {},
   "outputs": [],
   "source": [
    "neg_sample = df_optimal.loc[df_optimal['target_activity'] == 0, 'target_name'].drop_duplicates().sample(16).values"
   ]
  },
  {
   "cell_type": "code",
   "execution_count": 39,
   "metadata": {},
   "outputs": [],
   "source": [
    "neg_sel = df_optimal.loc[df_optimal['target_name'].isin(neg_sample),:].sort_values(by=['target_name'])"
   ]
  },
  {
   "cell_type": "code",
   "execution_count": 40,
   "metadata": {},
   "outputs": [],
   "source": [
    "pos_sel = df_optimal.loc[df_optimal['activity'] == 1, :].drop_duplicates().sample(4)"
   ]
  },
  {
   "cell_type": "code",
   "execution_count": 41,
   "metadata": {},
   "outputs": [],
   "source": [
    "sel_dict = {'Selected substance':[],'Selected structure':[],'Compared substance':[],'Compared substance structure':[], 'Similarity':[]}\n",
    "for i, row in not_sim_selection.iterrows():\n",
    "    sub_sel = row['target_name']\n",
    "    struc_sel = row['target_structure']\n",
    "    similarity = row['similarity']\n",
    "    sub_sim = row['name']\n",
    "    sub_struc = row['name_structure']\n",
    "    if sub_sel not in sel_dict['Selected substance']:\n",
    "        sel_dict['Selected substance'].append(sub_sel)\n",
    "        sel_dict['Selected structure'].append(struc_sel)\n",
    "        sel_dict['Compared substance'].append(sub_sim)\n",
    "        sel_dict['Compared substance structure'].append(sub_struc)\n",
    "        sel_dict['Similarity'].append(similarity)\n",
    "    else:\n",
    "        continue\n",
    "sel_df = pd.DataFrame(sel_dict)"
   ]
  },
  {
   "cell_type": "code",
   "execution_count": 42,
   "metadata": {},
   "outputs": [],
   "source": [
    "#sel_df.to_excel('ED_not_similar_selection.xlsx')"
   ]
  },
  {
   "cell_type": "code",
   "execution_count": 43,
   "metadata": {},
   "outputs": [
    {
     "data": {
      "text/plain": [
       "array(['n-Octyl-polyoxyethylene', 'CCCCCCCCOCCO', 'Endosulfan',\n",
       "       'O=S1OCC2C(CO1)C1(Cl)C(Cl)=C(Cl)C2(Cl)C1(Cl)Cl', 0.359375],\n",
       "      dtype=object)"
      ]
     },
     "execution_count": 43,
     "metadata": {},
     "output_type": "execute_result"
    }
   ],
   "source": [
    "sel_df.iloc[15].values"
   ]
  },
  {
   "cell_type": "code",
   "execution_count": 39,
   "metadata": {},
   "outputs": [],
   "source": [
    "pos_sel.to_excel('ED_positive_selection.xlsx')"
   ]
  },
  {
   "cell_type": "code",
   "execution_count": 40,
   "metadata": {},
   "outputs": [],
   "source": [
    "sel_df.to_excel('ED_negative_selection.xlsx')"
   ]
  },
  {
   "cell_type": "code",
   "execution_count": 41,
   "metadata": {},
   "outputs": [],
   "source": [
    "selected_names_pos = df_optimal.loc[df_optimal['activity'] == 1, 'name'].drop_duplicates().values"
   ]
  },
  {
   "cell_type": "code",
   "execution_count": 44,
   "metadata": {},
   "outputs": [],
   "source": [
    "noinfo_similar_set = ed[ed['name'].isin(df_optimal.loc[df_optimal['target_activity'] == 0, 'target_name'].drop_duplicates().values)]"
   ]
  },
  {
   "cell_type": "code",
   "execution_count": 45,
   "metadata": {},
   "outputs": [
    {
     "name": "stderr",
     "output_type": "stream",
     "text": [
      "/home/emarch/miniconda3/envs/inditex/lib/python3.7/site-packages/pandas/core/frame.py:3940: SettingWithCopyWarning: \n",
      "A value is trying to be set on a copy of a slice from a DataFrame\n",
      "\n",
      "See the caveats in the documentation: http://pandas.pydata.org/pandas-docs/stable/indexing.html#indexing-view-versus-copy\n",
      "  errors=errors)\n"
     ]
    }
   ],
   "source": [
    "noinfo_similar_set.drop(columns=['canon_smiles','mols_rdkit','fps'],inplace=True)"
   ]
  },
  {
   "cell_type": "code",
   "execution_count": 47,
   "metadata": {},
   "outputs": [
    {
     "data": {
      "text/html": [
       "<div>\n",
       "<style scoped>\n",
       "    .dataframe tbody tr th:only-of-type {\n",
       "        vertical-align: middle;\n",
       "    }\n",
       "\n",
       "    .dataframe tbody tr th {\n",
       "        vertical-align: top;\n",
       "    }\n",
       "\n",
       "    .dataframe thead th {\n",
       "        text-align: right;\n",
       "    }\n",
       "</style>\n",
       "<table border=\"1\" class=\"dataframe\">\n",
       "  <thead>\n",
       "    <tr style=\"text-align: right;\">\n",
       "      <th></th>\n",
       "      <th>name</th>\n",
       "      <th>mol_formula_curated</th>\n",
       "      <th>structure_curated</th>\n",
       "      <th>endocrine_disruptor</th>\n",
       "      <th>activity</th>\n",
       "    </tr>\n",
       "  </thead>\n",
       "  <tbody>\n",
       "    <tr>\n",
       "      <th>24</th>\n",
       "      <td>Dimethyl phthalate (DMP)</td>\n",
       "      <td>C10H10O4</td>\n",
       "      <td>COC(=O)c1ccccc1C(=O)OC</td>\n",
       "      <td>No information</td>\n",
       "      <td>0</td>\n",
       "    </tr>\n",
       "    <tr>\n",
       "      <th>35</th>\n",
       "      <td>Undecafluorohexanoic acid</td>\n",
       "      <td>C6HF11O2</td>\n",
       "      <td>O=C(O)C(F)(F)C(F)(F)C(F)(F)C(F)(F)C(F)(F)F</td>\n",
       "      <td>No information</td>\n",
       "      <td>0</td>\n",
       "    </tr>\n",
       "    <tr>\n",
       "      <th>36</th>\n",
       "      <td>1,1,2,2,3,3,4,4,5,5,6,6,6-tridecafluorohexane-...</td>\n",
       "      <td>C6HF13O3S</td>\n",
       "      <td>O=S(=O)(O)C(F)(F)C(F)(F)C(F)(F)C(F)(F)C(F)(F)C...</td>\n",
       "      <td>No information</td>\n",
       "      <td>0</td>\n",
       "    </tr>\n",
       "    <tr>\n",
       "      <th>42</th>\n",
       "      <td>Nonafluorovaleric Acid</td>\n",
       "      <td>C5HF9O2</td>\n",
       "      <td>O=C(O)C(F)(F)C(F)(F)C(F)(F)C(F)(F)F</td>\n",
       "      <td>No information</td>\n",
       "      <td>0</td>\n",
       "    </tr>\n",
       "    <tr>\n",
       "      <th>43</th>\n",
       "      <td>Tridecafluoroheptanoic Acid</td>\n",
       "      <td>C7HF13O2</td>\n",
       "      <td>N.O=C(O)C(F)(F)C(F)(F)C(F)(F)C(F)(F)C(F)(F)C(F...</td>\n",
       "      <td>No information</td>\n",
       "      <td>0</td>\n",
       "    </tr>\n",
       "    <tr>\n",
       "      <th>50</th>\n",
       "      <td>Henicosafluorodecanesulphonic acid</td>\n",
       "      <td>C10HF21O3S</td>\n",
       "      <td>O=S(=O)(O)C(F)(F)C(F)(F)C(F)(F)C(F)(F)C(F)(F)C...</td>\n",
       "      <td>No information</td>\n",
       "      <td>0</td>\n",
       "    </tr>\n",
       "    <tr>\n",
       "      <th>61</th>\n",
       "      <td>2,2,3,3,4,4,5,5,6,6,7,7-Dodecafluoroheptanoic ...</td>\n",
       "      <td>C7H2F12O2</td>\n",
       "      <td>O=C(O)C(F)(F)C(F)(F)C(F)(F)C(F)(F)C(F)(F)C(F)F</td>\n",
       "      <td>No information</td>\n",
       "      <td>0</td>\n",
       "    </tr>\n",
       "    <tr>\n",
       "      <th>65</th>\n",
       "      <td>2,3,4,6-Tetrachlorophenol</td>\n",
       "      <td>C6H2Cl4O</td>\n",
       "      <td>Oc1c(Cl)cc(Cl)c(Cl)c1Cl</td>\n",
       "      <td>No information</td>\n",
       "      <td>0</td>\n",
       "    </tr>\n",
       "    <tr>\n",
       "      <th>66</th>\n",
       "      <td>2,3,5,6-Tetrachlorophenol (2,3,5,6-TeCP)</td>\n",
       "      <td>C6H2Cl4O</td>\n",
       "      <td>Oc1c(Cl)c(Cl)cc(Cl)c1Cl</td>\n",
       "      <td>No information</td>\n",
       "      <td>0</td>\n",
       "    </tr>\n",
       "    <tr>\n",
       "      <th>67</th>\n",
       "      <td>2,3,4,5-Tetrachlorophenol (2,3,4,5-TeCP)</td>\n",
       "      <td>C6H2Cl4O</td>\n",
       "      <td>Oc1cc(Cl)c(Cl)c(Cl)c1Cl</td>\n",
       "      <td>No information</td>\n",
       "      <td>0</td>\n",
       "    </tr>\n",
       "    <tr>\n",
       "      <th>69</th>\n",
       "      <td>2,3,4-Trichlorophenol</td>\n",
       "      <td>C6H3Cl3O</td>\n",
       "      <td>Oc1ccc(Cl)c(Cl)c1Cl</td>\n",
       "      <td>No information</td>\n",
       "      <td>0</td>\n",
       "    </tr>\n",
       "    <tr>\n",
       "      <th>72</th>\n",
       "      <td>2,3,5-Trichlorophenol</td>\n",
       "      <td>C6H3Cl3O</td>\n",
       "      <td>Oc1cc(Cl)cc(Cl)c1Cl</td>\n",
       "      <td>No information</td>\n",
       "      <td>0</td>\n",
       "    </tr>\n",
       "    <tr>\n",
       "      <th>73</th>\n",
       "      <td>2,3,6-Trichlorophenol</td>\n",
       "      <td>C6H3Cl3O</td>\n",
       "      <td>Oc1c(Cl)ccc(Cl)c1Cl</td>\n",
       "      <td>No information</td>\n",
       "      <td>0</td>\n",
       "    </tr>\n",
       "    <tr>\n",
       "      <th>74</th>\n",
       "      <td>2,4,5-Trichlorophenol</td>\n",
       "      <td>C6H3Cl3O</td>\n",
       "      <td>Oc1cc(Cl)c(Cl)cc1Cl</td>\n",
       "      <td>No information</td>\n",
       "      <td>0</td>\n",
       "    </tr>\n",
       "    <tr>\n",
       "      <th>80</th>\n",
       "      <td>3,4-dichlorophenol</td>\n",
       "      <td>C6H4Cl2O</td>\n",
       "      <td>Oc1ccc(Cl)c(Cl)c1</td>\n",
       "      <td>No information</td>\n",
       "      <td>0</td>\n",
       "    </tr>\n",
       "    <tr>\n",
       "      <th>82</th>\n",
       "      <td>Monochlorophenol (mixed isomers)</td>\n",
       "      <td>C6H5ClO</td>\n",
       "      <td>Oc1ccc(Cl)cc1</td>\n",
       "      <td>No information</td>\n",
       "      <td>0</td>\n",
       "    </tr>\n",
       "    <tr>\n",
       "      <th>83</th>\n",
       "      <td>Monochlorophenol (mixed isomers)</td>\n",
       "      <td>C6H5ClO</td>\n",
       "      <td>Oc1ccccc1Cl</td>\n",
       "      <td>No information</td>\n",
       "      <td>0</td>\n",
       "    </tr>\n",
       "    <tr>\n",
       "      <th>84</th>\n",
       "      <td>Monochlorophenol (mixed isomers)</td>\n",
       "      <td>C6H5ClO</td>\n",
       "      <td>Oc1cccc(Cl)c1</td>\n",
       "      <td>No information</td>\n",
       "      <td>0</td>\n",
       "    </tr>\n",
       "    <tr>\n",
       "      <th>93</th>\n",
       "      <td>p-Isooctylphenol</td>\n",
       "      <td>C14H22O</td>\n",
       "      <td>CC(C)CCCCCc1ccc(O)cc1</td>\n",
       "      <td>No information</td>\n",
       "      <td>0</td>\n",
       "    </tr>\n",
       "    <tr>\n",
       "      <th>97</th>\n",
       "      <td>2-Octylphenol</td>\n",
       "      <td>C14H22O</td>\n",
       "      <td>CCCCCCCCc1ccccc1O</td>\n",
       "      <td>No information</td>\n",
       "      <td>0</td>\n",
       "    </tr>\n",
       "    <tr>\n",
       "      <th>122</th>\n",
       "      <td>1,2,4-Trichlorobenzene</td>\n",
       "      <td>C6H3Cl3</td>\n",
       "      <td>Clc1ccc(Cl)c(Cl)c1</td>\n",
       "      <td>No information</td>\n",
       "      <td>0</td>\n",
       "    </tr>\n",
       "    <tr>\n",
       "      <th>123</th>\n",
       "      <td>1,2,3,4-Tetrachlorobenzene</td>\n",
       "      <td>C6H2Cl4</td>\n",
       "      <td>Clc1ccc(Cl)c(Cl)c1Cl</td>\n",
       "      <td>No information</td>\n",
       "      <td>0</td>\n",
       "    </tr>\n",
       "    <tr>\n",
       "      <th>124</th>\n",
       "      <td>1,2,3,5-Tetrachlorobenzene</td>\n",
       "      <td>C6H2Cl4</td>\n",
       "      <td>Clc1cc(Cl)c(Cl)c(Cl)c1</td>\n",
       "      <td>No information</td>\n",
       "      <td>0</td>\n",
       "    </tr>\n",
       "    <tr>\n",
       "      <th>125</th>\n",
       "      <td>1,2,4,5-Tetrachlorobenzene</td>\n",
       "      <td>C6H2Cl4</td>\n",
       "      <td>Clc1cc(Cl)c(Cl)cc1Cl</td>\n",
       "      <td>No information</td>\n",
       "      <td>0</td>\n",
       "    </tr>\n",
       "    <tr>\n",
       "      <th>126</th>\n",
       "      <td>1,2,3,4-Tetrachlorobenzene</td>\n",
       "      <td>C6H2Cl4</td>\n",
       "      <td>Clc1cc(Cl)c(Cl)cc1Cl</td>\n",
       "      <td>No information</td>\n",
       "      <td>0</td>\n",
       "    </tr>\n",
       "    <tr>\n",
       "      <th>148</th>\n",
       "      <td>1,2,3,4,5,6,7-Heptachloronaphthalene</td>\n",
       "      <td>C10HCl7</td>\n",
       "      <td>Clc1cc(Cl)c2c(Cl)c(Cl)c(Cl)c(Cl)c2c1Cl</td>\n",
       "      <td>No information</td>\n",
       "      <td>0</td>\n",
       "    </tr>\n",
       "    <tr>\n",
       "      <th>149</th>\n",
       "      <td>Octachloronaphthalene</td>\n",
       "      <td>C10Cl8</td>\n",
       "      <td>Clc1c(Cl)c(Cl)c2c(Cl)c(Cl)c(Cl)c(Cl)c2c1Cl</td>\n",
       "      <td>No information</td>\n",
       "      <td>0</td>\n",
       "    </tr>\n",
       "    <tr>\n",
       "      <th>258</th>\n",
       "      <td>Tetrachloromethane</td>\n",
       "      <td>CCl4</td>\n",
       "      <td>ClC(Cl)(Cl)Cl</td>\n",
       "      <td>No information</td>\n",
       "      <td>0</td>\n",
       "    </tr>\n",
       "    <tr>\n",
       "      <th>329</th>\n",
       "      <td>Phenanthrene</td>\n",
       "      <td>C14H10</td>\n",
       "      <td>c1ccc2c(c1)ccc1ccccc12</td>\n",
       "      <td>No information</td>\n",
       "      <td>0</td>\n",
       "    </tr>\n",
       "    <tr>\n",
       "      <th>330</th>\n",
       "      <td>Anthracene</td>\n",
       "      <td>C14H10</td>\n",
       "      <td>c1ccc2cc3ccccc3cc2c1</td>\n",
       "      <td>No information</td>\n",
       "      <td>0</td>\n",
       "    </tr>\n",
       "    <tr>\n",
       "      <th>...</th>\n",
       "      <td>...</td>\n",
       "      <td>...</td>\n",
       "      <td>...</td>\n",
       "      <td>...</td>\n",
       "      <td>...</td>\n",
       "    </tr>\n",
       "    <tr>\n",
       "      <th>1003</th>\n",
       "      <td>1,2,3,6,7,8-Hexachlorodibenzofuran</td>\n",
       "      <td>None</td>\n",
       "      <td>Clc1cc2c(oc3cc(Cl)c(Cl)c(Cl)c32)c(Cl)c1Cl</td>\n",
       "      <td>No information</td>\n",
       "      <td>0</td>\n",
       "    </tr>\n",
       "    <tr>\n",
       "      <th>1004</th>\n",
       "      <td>1,2,3,7,8,9-Hexachlorodibenzofuran</td>\n",
       "      <td>C12H2Cl6O</td>\n",
       "      <td>Clc1cc2oc3cc(Cl)c(Cl)c(Cl)c3c2c(Cl)c1Cl</td>\n",
       "      <td>No information</td>\n",
       "      <td>0</td>\n",
       "    </tr>\n",
       "    <tr>\n",
       "      <th>1005</th>\n",
       "      <td>2,3,4,6,7,8-Hexachlorodibenzofuran</td>\n",
       "      <td>C12H2Cl6O</td>\n",
       "      <td>Clc1cc2c(oc3c(Cl)c(Cl)c(Cl)cc32)c(Cl)c1Cl</td>\n",
       "      <td>No information</td>\n",
       "      <td>0</td>\n",
       "    </tr>\n",
       "    <tr>\n",
       "      <th>1006</th>\n",
       "      <td>1,2,3,4,6,7,8-Heptachlorodibenzofuran</td>\n",
       "      <td>C12HCl7O</td>\n",
       "      <td>Clc1cc2c(oc3c(Cl)c(Cl)c(Cl)c(Cl)c32)c(Cl)c1Cl</td>\n",
       "      <td>No information</td>\n",
       "      <td>0</td>\n",
       "    </tr>\n",
       "    <tr>\n",
       "      <th>1007</th>\n",
       "      <td>1,2,3,4,7,8,9-Heptachlorodibenzofuran</td>\n",
       "      <td>C12HCl7O</td>\n",
       "      <td>Clc1cc2oc3c(Cl)c(Cl)c(Cl)c(Cl)c3c2c(Cl)c1Cl</td>\n",
       "      <td>No information</td>\n",
       "      <td>0</td>\n",
       "    </tr>\n",
       "    <tr>\n",
       "      <th>1008</th>\n",
       "      <td>Dibenzofuran, octachloro-</td>\n",
       "      <td>C12Cl8O</td>\n",
       "      <td>Clc1c(Cl)c(Cl)c2c(oc3c(Cl)c(Cl)c(Cl)c(Cl)c32)c1Cl</td>\n",
       "      <td>No information</td>\n",
       "      <td>0</td>\n",
       "    </tr>\n",
       "    <tr>\n",
       "      <th>1034</th>\n",
       "      <td>2-(2,4,5-Trichlorophenoxy) propionic acid and ...</td>\n",
       "      <td>None</td>\n",
       "      <td>CC(Oc1cc(Cl)c(Cl)cc1Cl)C(=O)O</td>\n",
       "      <td>No information</td>\n",
       "      <td>0</td>\n",
       "    </tr>\n",
       "    <tr>\n",
       "      <th>1272</th>\n",
       "      <td>ETHYLPHTHALYL ETHYLGLYCOLATE (EPEG)</td>\n",
       "      <td>C14H16O6</td>\n",
       "      <td>CCOC(=O)COC(=O)c1ccccc1C(=O)OCC</td>\n",
       "      <td>No information</td>\n",
       "      <td>0</td>\n",
       "    </tr>\n",
       "    <tr>\n",
       "      <th>1288</th>\n",
       "      <td>Tris(2-ethylhexyl) trimellitate</td>\n",
       "      <td>C33H54O6</td>\n",
       "      <td>CCCCC(CC)COC(=O)c1ccc(C(=O)OCC(CC)CCCC)c(C(=O)...</td>\n",
       "      <td>No information</td>\n",
       "      <td>0</td>\n",
       "    </tr>\n",
       "    <tr>\n",
       "      <th>1332</th>\n",
       "      <td>METHYL BENZOPHENONE</td>\n",
       "      <td>C14H12O</td>\n",
       "      <td>Cc1ccc(C(=O)c2ccccc2)cc1</td>\n",
       "      <td>No information</td>\n",
       "      <td>0</td>\n",
       "    </tr>\n",
       "    <tr>\n",
       "      <th>1346</th>\n",
       "      <td>Butanedioic acid, [(dipropoxyphosphinothioyl)t...</td>\n",
       "      <td>C18H35O6PS2</td>\n",
       "      <td>CCCCOC(=O)CC(SP(=S)(OCCC)OCCC)C(=O)OCCCC</td>\n",
       "      <td>No information</td>\n",
       "      <td>0</td>\n",
       "    </tr>\n",
       "    <tr>\n",
       "      <th>1739</th>\n",
       "      <td>bis(methylcyclohexyl) phthalate</td>\n",
       "      <td>C22H30O4</td>\n",
       "      <td>CC1(OC(=O)c2ccccc2C(=O)OC2(C)CCCCC2)CCCCC1</td>\n",
       "      <td>No information</td>\n",
       "      <td>0</td>\n",
       "    </tr>\n",
       "    <tr>\n",
       "      <th>2285</th>\n",
       "      <td>DIUNDECYL PHTHALATE (DUP)</td>\n",
       "      <td>C30H50O4</td>\n",
       "      <td>CCCCCCCCCCCOC(=O)c1ccccc1C(=O)OCCCCCCCCCCC</td>\n",
       "      <td>No information</td>\n",
       "      <td>0</td>\n",
       "    </tr>\n",
       "    <tr>\n",
       "      <th>2355</th>\n",
       "      <td>CYCLOHEXANE, CYCLOHEXANE</td>\n",
       "      <td>C6H12</td>\n",
       "      <td>C1CCCCC1</td>\n",
       "      <td>No information</td>\n",
       "      <td>0</td>\n",
       "    </tr>\n",
       "    <tr>\n",
       "      <th>2405</th>\n",
       "      <td>DIPROPYLHEPTYL PHTHALATE (DPHP)</td>\n",
       "      <td>C28H46O4</td>\n",
       "      <td>CCCCCC(CCC)COC(=O)c1ccccc1C(=O)OCC(CCC)CCCCC</td>\n",
       "      <td>No information</td>\n",
       "      <td>0</td>\n",
       "    </tr>\n",
       "    <tr>\n",
       "      <th>2516</th>\n",
       "      <td>O-(4-Nitrophenyl)hydroxylamine</td>\n",
       "      <td>C6H6N2O3</td>\n",
       "      <td>NOc1ccc([N+](=O)[O-])cc1</td>\n",
       "      <td>No information</td>\n",
       "      <td>0</td>\n",
       "    </tr>\n",
       "    <tr>\n",
       "      <th>2587</th>\n",
       "      <td>Dioxybenzone</td>\n",
       "      <td>C14H12O4</td>\n",
       "      <td>COc1ccc(C(=O)c2ccccc2O)c(O)c1</td>\n",
       "      <td>No information</td>\n",
       "      <td>0</td>\n",
       "    </tr>\n",
       "    <tr>\n",
       "      <th>2599</th>\n",
       "      <td>Butanedioic acid, [[bis[(2-ethylhexyl)oxy]phos...</td>\n",
       "      <td>C28H55O6PS2</td>\n",
       "      <td>CCCCOC(=O)CC(SP(=S)(OCC(CC)CCCC)OCC(CC)CCCC)C(...</td>\n",
       "      <td>No information</td>\n",
       "      <td>0</td>\n",
       "    </tr>\n",
       "    <tr>\n",
       "      <th>2603</th>\n",
       "      <td>Potassium dimethyldithiocarbamate</td>\n",
       "      <td>C3H6KNS2</td>\n",
       "      <td>CN(C)C(=S)[S-].[K+]</td>\n",
       "      <td>No information</td>\n",
       "      <td>0</td>\n",
       "    </tr>\n",
       "    <tr>\n",
       "      <th>2697</th>\n",
       "      <td>tetrabutyl-phosphonium nonafluoro-butane-1-sul...</td>\n",
       "      <td>C20H36F9O3PS</td>\n",
       "      <td>CCCC[P+](CCCC)(CCCC)CCCC.O=S(=O)([O-])C(F)(F)C...</td>\n",
       "      <td>No information</td>\n",
       "      <td>0</td>\n",
       "    </tr>\n",
       "    <tr>\n",
       "      <th>2923</th>\n",
       "      <td>triisotridecyl benzene-1,2,4-tricarboxylate</td>\n",
       "      <td>C48H84O6</td>\n",
       "      <td>CC(C)CCCCCCCCCCOC(=O)c1ccc(C(=O)OCCCCCCCCCCC(C...</td>\n",
       "      <td>No information</td>\n",
       "      <td>0</td>\n",
       "    </tr>\n",
       "    <tr>\n",
       "      <th>2976</th>\n",
       "      <td>1-ETHENYL-4-METHYLBENZENE</td>\n",
       "      <td>C9H10</td>\n",
       "      <td>C=Cc1ccc(C)cc1</td>\n",
       "      <td>No information</td>\n",
       "      <td>0</td>\n",
       "    </tr>\n",
       "    <tr>\n",
       "      <th>3328</th>\n",
       "      <td>1-HYDROXY-2-TERT-BUTYL-4-METHYLBENZENE</td>\n",
       "      <td>C11H16O</td>\n",
       "      <td>Cc1ccc(O)c(C(C)(C)C)c1</td>\n",
       "      <td>No information</td>\n",
       "      <td>0</td>\n",
       "    </tr>\n",
       "    <tr>\n",
       "      <th>3518</th>\n",
       "      <td>Hexanoic acid, undecafluoro-, ammonium salt (T...</td>\n",
       "      <td>C6H5F11NO2+</td>\n",
       "      <td>O=C(O)C(F)(F)C(F)(F)C(F)(F)C(F)(F)C(F)(F)F.[NH4+]</td>\n",
       "      <td>No information</td>\n",
       "      <td>0</td>\n",
       "    </tr>\n",
       "    <tr>\n",
       "      <th>3671</th>\n",
       "      <td>Hydroquinone</td>\n",
       "      <td>C6H6O2</td>\n",
       "      <td>Oc1ccc(O)cc1</td>\n",
       "      <td>No information</td>\n",
       "      <td>0</td>\n",
       "    </tr>\n",
       "    <tr>\n",
       "      <th>3688</th>\n",
       "      <td>ALKYL(C10-C13)BENZENE</td>\n",
       "      <td>C17H28</td>\n",
       "      <td>CCCCCCCCCCCc1ccccc1</td>\n",
       "      <td>No information</td>\n",
       "      <td>0</td>\n",
       "    </tr>\n",
       "    <tr>\n",
       "      <th>3896</th>\n",
       "      <td>beta-Bromostyrene</td>\n",
       "      <td>C8H7Br</td>\n",
       "      <td>Br/C=C/c1ccccc1</td>\n",
       "      <td>No information</td>\n",
       "      <td>0</td>\n",
       "    </tr>\n",
       "    <tr>\n",
       "      <th>4055</th>\n",
       "      <td>diisotridecyl phthalate</td>\n",
       "      <td>C34H58O4</td>\n",
       "      <td>CC(C)CCCCCCCCCCOC(=O)c1ccccc1C(=O)OCCCCCCCCCCC...</td>\n",
       "      <td>No information</td>\n",
       "      <td>0</td>\n",
       "    </tr>\n",
       "    <tr>\n",
       "      <th>4077</th>\n",
       "      <td>Heptane</td>\n",
       "      <td>C7H16</td>\n",
       "      <td>CCCCCCC</td>\n",
       "      <td>No information</td>\n",
       "      <td>0</td>\n",
       "    </tr>\n",
       "    <tr>\n",
       "      <th>4224</th>\n",
       "      <td>phloroglucinol</td>\n",
       "      <td>C6H6O3</td>\n",
       "      <td>Oc1cc(O)cc(O)c1</td>\n",
       "      <td>No information</td>\n",
       "      <td>0</td>\n",
       "    </tr>\n",
       "  </tbody>\n",
       "</table>\n",
       "<p>79 rows × 5 columns</p>\n",
       "</div>"
      ],
      "text/plain": [
       "                                                   name mol_formula_curated  \\\n",
       "24                             Dimethyl phthalate (DMP)            C10H10O4   \n",
       "35                            Undecafluorohexanoic acid            C6HF11O2   \n",
       "36    1,1,2,2,3,3,4,4,5,5,6,6,6-tridecafluorohexane-...           C6HF13O3S   \n",
       "42                               Nonafluorovaleric Acid             C5HF9O2   \n",
       "43                          Tridecafluoroheptanoic Acid            C7HF13O2   \n",
       "50                  Henicosafluorodecanesulphonic acid           C10HF21O3S   \n",
       "61    2,2,3,3,4,4,5,5,6,6,7,7-Dodecafluoroheptanoic ...           C7H2F12O2   \n",
       "65                            2,3,4,6-Tetrachlorophenol            C6H2Cl4O   \n",
       "66             2,3,5,6-Tetrachlorophenol (2,3,5,6-TeCP)            C6H2Cl4O   \n",
       "67             2,3,4,5-Tetrachlorophenol (2,3,4,5-TeCP)            C6H2Cl4O   \n",
       "69                                2,3,4-Trichlorophenol            C6H3Cl3O   \n",
       "72                                2,3,5-Trichlorophenol            C6H3Cl3O   \n",
       "73                                2,3,6-Trichlorophenol            C6H3Cl3O   \n",
       "74                                2,4,5-Trichlorophenol            C6H3Cl3O   \n",
       "80                                   3,4-dichlorophenol            C6H4Cl2O   \n",
       "82                     Monochlorophenol (mixed isomers)             C6H5ClO   \n",
       "83                     Monochlorophenol (mixed isomers)             C6H5ClO   \n",
       "84                     Monochlorophenol (mixed isomers)             C6H5ClO   \n",
       "93                                     p-Isooctylphenol             C14H22O   \n",
       "97                                        2-Octylphenol             C14H22O   \n",
       "122                              1,2,4-Trichlorobenzene             C6H3Cl3   \n",
       "123                          1,2,3,4-Tetrachlorobenzene             C6H2Cl4   \n",
       "124                          1,2,3,5-Tetrachlorobenzene             C6H2Cl4   \n",
       "125                          1,2,4,5-Tetrachlorobenzene             C6H2Cl4   \n",
       "126                          1,2,3,4-Tetrachlorobenzene             C6H2Cl4   \n",
       "148                1,2,3,4,5,6,7-Heptachloronaphthalene             C10HCl7   \n",
       "149                               Octachloronaphthalene              C10Cl8   \n",
       "258                                  Tetrachloromethane                CCl4   \n",
       "329                                        Phenanthrene              C14H10   \n",
       "330                                          Anthracene              C14H10   \n",
       "...                                                 ...                 ...   \n",
       "1003                 1,2,3,6,7,8-Hexachlorodibenzofuran                None   \n",
       "1004                 1,2,3,7,8,9-Hexachlorodibenzofuran           C12H2Cl6O   \n",
       "1005                 2,3,4,6,7,8-Hexachlorodibenzofuran           C12H2Cl6O   \n",
       "1006              1,2,3,4,6,7,8-Heptachlorodibenzofuran            C12HCl7O   \n",
       "1007              1,2,3,4,7,8,9-Heptachlorodibenzofuran            C12HCl7O   \n",
       "1008                          Dibenzofuran, octachloro-             C12Cl8O   \n",
       "1034  2-(2,4,5-Trichlorophenoxy) propionic acid and ...                None   \n",
       "1272                ETHYLPHTHALYL ETHYLGLYCOLATE (EPEG)            C14H16O6   \n",
       "1288                    Tris(2-ethylhexyl) trimellitate            C33H54O6   \n",
       "1332                                METHYL BENZOPHENONE             C14H12O   \n",
       "1346  Butanedioic acid, [(dipropoxyphosphinothioyl)t...         C18H35O6PS2   \n",
       "1739                    bis(methylcyclohexyl) phthalate            C22H30O4   \n",
       "2285                          DIUNDECYL PHTHALATE (DUP)            C30H50O4   \n",
       "2355                           CYCLOHEXANE, CYCLOHEXANE               C6H12   \n",
       "2405                    DIPROPYLHEPTYL PHTHALATE (DPHP)            C28H46O4   \n",
       "2516                     O-(4-Nitrophenyl)hydroxylamine            C6H6N2O3   \n",
       "2587                                       Dioxybenzone            C14H12O4   \n",
       "2599  Butanedioic acid, [[bis[(2-ethylhexyl)oxy]phos...         C28H55O6PS2   \n",
       "2603                  Potassium dimethyldithiocarbamate            C3H6KNS2   \n",
       "2697  tetrabutyl-phosphonium nonafluoro-butane-1-sul...        C20H36F9O3PS   \n",
       "2923        triisotridecyl benzene-1,2,4-tricarboxylate            C48H84O6   \n",
       "2976                          1-ETHENYL-4-METHYLBENZENE               C9H10   \n",
       "3328             1-HYDROXY-2-TERT-BUTYL-4-METHYLBENZENE             C11H16O   \n",
       "3518  Hexanoic acid, undecafluoro-, ammonium salt (T...         C6H5F11NO2+   \n",
       "3671                                       Hydroquinone              C6H6O2   \n",
       "3688                              ALKYL(C10-C13)BENZENE              C17H28   \n",
       "3896                                  beta-Bromostyrene              C8H7Br   \n",
       "4055                            diisotridecyl phthalate            C34H58O4   \n",
       "4077                                            Heptane               C7H16   \n",
       "4224                                     phloroglucinol              C6H6O3   \n",
       "\n",
       "                                      structure_curated endocrine_disruptor  \\\n",
       "24                               COC(=O)c1ccccc1C(=O)OC      No information   \n",
       "35           O=C(O)C(F)(F)C(F)(F)C(F)(F)C(F)(F)C(F)(F)F      No information   \n",
       "36    O=S(=O)(O)C(F)(F)C(F)(F)C(F)(F)C(F)(F)C(F)(F)C...      No information   \n",
       "42                  O=C(O)C(F)(F)C(F)(F)C(F)(F)C(F)(F)F      No information   \n",
       "43    N.O=C(O)C(F)(F)C(F)(F)C(F)(F)C(F)(F)C(F)(F)C(F...      No information   \n",
       "50    O=S(=O)(O)C(F)(F)C(F)(F)C(F)(F)C(F)(F)C(F)(F)C...      No information   \n",
       "61       O=C(O)C(F)(F)C(F)(F)C(F)(F)C(F)(F)C(F)(F)C(F)F      No information   \n",
       "65                              Oc1c(Cl)cc(Cl)c(Cl)c1Cl      No information   \n",
       "66                              Oc1c(Cl)c(Cl)cc(Cl)c1Cl      No information   \n",
       "67                              Oc1cc(Cl)c(Cl)c(Cl)c1Cl      No information   \n",
       "69                                  Oc1ccc(Cl)c(Cl)c1Cl      No information   \n",
       "72                                  Oc1cc(Cl)cc(Cl)c1Cl      No information   \n",
       "73                                  Oc1c(Cl)ccc(Cl)c1Cl      No information   \n",
       "74                                  Oc1cc(Cl)c(Cl)cc1Cl      No information   \n",
       "80                                    Oc1ccc(Cl)c(Cl)c1      No information   \n",
       "82                                        Oc1ccc(Cl)cc1      No information   \n",
       "83                                          Oc1ccccc1Cl      No information   \n",
       "84                                        Oc1cccc(Cl)c1      No information   \n",
       "93                                CC(C)CCCCCc1ccc(O)cc1      No information   \n",
       "97                                    CCCCCCCCc1ccccc1O      No information   \n",
       "122                                  Clc1ccc(Cl)c(Cl)c1      No information   \n",
       "123                                Clc1ccc(Cl)c(Cl)c1Cl      No information   \n",
       "124                              Clc1cc(Cl)c(Cl)c(Cl)c1      No information   \n",
       "125                                Clc1cc(Cl)c(Cl)cc1Cl      No information   \n",
       "126                                Clc1cc(Cl)c(Cl)cc1Cl      No information   \n",
       "148              Clc1cc(Cl)c2c(Cl)c(Cl)c(Cl)c(Cl)c2c1Cl      No information   \n",
       "149          Clc1c(Cl)c(Cl)c2c(Cl)c(Cl)c(Cl)c(Cl)c2c1Cl      No information   \n",
       "258                                       ClC(Cl)(Cl)Cl      No information   \n",
       "329                              c1ccc2c(c1)ccc1ccccc12      No information   \n",
       "330                                c1ccc2cc3ccccc3cc2c1      No information   \n",
       "...                                                 ...                 ...   \n",
       "1003          Clc1cc2c(oc3cc(Cl)c(Cl)c(Cl)c32)c(Cl)c1Cl      No information   \n",
       "1004            Clc1cc2oc3cc(Cl)c(Cl)c(Cl)c3c2c(Cl)c1Cl      No information   \n",
       "1005          Clc1cc2c(oc3c(Cl)c(Cl)c(Cl)cc32)c(Cl)c1Cl      No information   \n",
       "1006      Clc1cc2c(oc3c(Cl)c(Cl)c(Cl)c(Cl)c32)c(Cl)c1Cl      No information   \n",
       "1007        Clc1cc2oc3c(Cl)c(Cl)c(Cl)c(Cl)c3c2c(Cl)c1Cl      No information   \n",
       "1008  Clc1c(Cl)c(Cl)c2c(oc3c(Cl)c(Cl)c(Cl)c(Cl)c32)c1Cl      No information   \n",
       "1034                      CC(Oc1cc(Cl)c(Cl)cc1Cl)C(=O)O      No information   \n",
       "1272                    CCOC(=O)COC(=O)c1ccccc1C(=O)OCC      No information   \n",
       "1288  CCCCC(CC)COC(=O)c1ccc(C(=O)OCC(CC)CCCC)c(C(=O)...      No information   \n",
       "1332                           Cc1ccc(C(=O)c2ccccc2)cc1      No information   \n",
       "1346           CCCCOC(=O)CC(SP(=S)(OCCC)OCCC)C(=O)OCCCC      No information   \n",
       "1739         CC1(OC(=O)c2ccccc2C(=O)OC2(C)CCCCC2)CCCCC1      No information   \n",
       "2285         CCCCCCCCCCCOC(=O)c1ccccc1C(=O)OCCCCCCCCCCC      No information   \n",
       "2355                                           C1CCCCC1      No information   \n",
       "2405       CCCCCC(CCC)COC(=O)c1ccccc1C(=O)OCC(CCC)CCCCC      No information   \n",
       "2516                           NOc1ccc([N+](=O)[O-])cc1      No information   \n",
       "2587                      COc1ccc(C(=O)c2ccccc2O)c(O)c1      No information   \n",
       "2599  CCCCOC(=O)CC(SP(=S)(OCC(CC)CCCC)OCC(CC)CCCC)C(...      No information   \n",
       "2603                                CN(C)C(=S)[S-].[K+]      No information   \n",
       "2697  CCCC[P+](CCCC)(CCCC)CCCC.O=S(=O)([O-])C(F)(F)C...      No information   \n",
       "2923  CC(C)CCCCCCCCCCOC(=O)c1ccc(C(=O)OCCCCCCCCCCC(C...      No information   \n",
       "2976                                     C=Cc1ccc(C)cc1      No information   \n",
       "3328                             Cc1ccc(O)c(C(C)(C)C)c1      No information   \n",
       "3518  O=C(O)C(F)(F)C(F)(F)C(F)(F)C(F)(F)C(F)(F)F.[NH4+]      No information   \n",
       "3671                                       Oc1ccc(O)cc1      No information   \n",
       "3688                                CCCCCCCCCCCc1ccccc1      No information   \n",
       "3896                                    Br/C=C/c1ccccc1      No information   \n",
       "4055  CC(C)CCCCCCCCCCOC(=O)c1ccccc1C(=O)OCCCCCCCCCCC...      No information   \n",
       "4077                                            CCCCCCC      No information   \n",
       "4224                                    Oc1cc(O)cc(O)c1      No information   \n",
       "\n",
       "      activity  \n",
       "24           0  \n",
       "35           0  \n",
       "36           0  \n",
       "42           0  \n",
       "43           0  \n",
       "50           0  \n",
       "61           0  \n",
       "65           0  \n",
       "66           0  \n",
       "67           0  \n",
       "69           0  \n",
       "72           0  \n",
       "73           0  \n",
       "74           0  \n",
       "80           0  \n",
       "82           0  \n",
       "83           0  \n",
       "84           0  \n",
       "93           0  \n",
       "97           0  \n",
       "122          0  \n",
       "123          0  \n",
       "124          0  \n",
       "125          0  \n",
       "126          0  \n",
       "148          0  \n",
       "149          0  \n",
       "258          0  \n",
       "329          0  \n",
       "330          0  \n",
       "...        ...  \n",
       "1003         0  \n",
       "1004         0  \n",
       "1005         0  \n",
       "1006         0  \n",
       "1007         0  \n",
       "1008         0  \n",
       "1034         0  \n",
       "1272         0  \n",
       "1288         0  \n",
       "1332         0  \n",
       "1346         0  \n",
       "1739         0  \n",
       "2285         0  \n",
       "2355         0  \n",
       "2405         0  \n",
       "2516         0  \n",
       "2587         0  \n",
       "2599         0  \n",
       "2603         0  \n",
       "2697         0  \n",
       "2923         0  \n",
       "2976         0  \n",
       "3328         0  \n",
       "3518         0  \n",
       "3671         0  \n",
       "3688         0  \n",
       "3896         0  \n",
       "4055         0  \n",
       "4077         0  \n",
       "4224         0  \n",
       "\n",
       "[79 rows x 5 columns]"
      ]
     },
     "execution_count": 47,
     "metadata": {},
     "output_type": "execute_result"
    }
   ],
   "source": [
    "noinfo_similar_set.drop_duplicates()"
   ]
  },
  {
   "cell_type": "code",
   "execution_count": 44,
   "metadata": {},
   "outputs": [],
   "source": [
    "# PandasTools.AddMoleculeColumnToFrame(noinfo_similar_set,'structure_curated')\n",
    "# no_mol = noinfo_similar_set[noinfo_similar_set['ROMol'].isna()]\n",
    "# noinfo_similar_set.drop(no_mol.index, axis=0, inplace=True)\n",
    "# noinfo_similar_set['ROMol'] = [Chem.AddHs(x) for x in noinfo_similar_set['ROMol'].values.tolist()]"
   ]
  },
  {
   "cell_type": "code",
   "execution_count": 45,
   "metadata": {},
   "outputs": [],
   "source": [
    "# df_bad = comp_df.loc[(comp_df['similarity'] < 0.5) &\n",
    "#                          (comp_df['similarity'] > 0.3) &\n",
    "#                          (comp_df['activity'] == 1) &\n",
    "#                          (comp_df['target_activity'] == 0)]"
   ]
  },
  {
   "cell_type": "code",
   "execution_count": 46,
   "metadata": {},
   "outputs": [],
   "source": [
    "# noinfo_bad = ed[ed['name'].isin(df_optimal.loc[df_optimal['target_activity'] == 0, 'target_name'].drop_duplicates().values)].sample(80)"
   ]
  },
  {
   "cell_type": "code",
   "execution_count": 47,
   "metadata": {},
   "outputs": [],
   "source": [
    "# noinfo_bad.drop(columns=['canon_smiles','mols_rdkit','fps'],inplace=True)"
   ]
  },
  {
   "cell_type": "code",
   "execution_count": 48,
   "metadata": {},
   "outputs": [],
   "source": [
    "# PandasTools.AddMoleculeColumnToFrame(noinfo_bad,'structure_curated')\n",
    "# no_mol = noinfo_bad[noinfo_bad['ROMol'].isna()]\n",
    "# noinfo_bad.drop(no_mol.index, axis=0, inplace=True)\n",
    "# noinfo_bad['ROMol'] = [Chem.AddHs(x) for x in noinfo_bad['ROMol'].values.tolist()]"
   ]
  },
  {
   "cell_type": "code",
   "execution_count": 49,
   "metadata": {},
   "outputs": [],
   "source": [
    "# pos_pred = ed[ed['name'].isin(selected_names_pos)].drop_duplicates()"
   ]
  },
  {
   "cell_type": "code",
   "execution_count": 50,
   "metadata": {},
   "outputs": [],
   "source": [
    "# pos_pred.drop(columns=['canon_smiles','mols_rdkit','fps'],inplace=True)"
   ]
  },
  {
   "cell_type": "code",
   "execution_count": 51,
   "metadata": {},
   "outputs": [],
   "source": [
    "# PandasTools.AddMoleculeColumnToFrame(pos_pred,'structure_curated')\n",
    "# no_mol = pos_pred[pos_pred['ROMol'].isna()]\n",
    "# pos_pred.drop(no_mol.index, axis=0, inplace=True)\n",
    "# pos_pred['ROMol'] = [Chem.AddHs(x) for x in pos_pred['ROMol'].values.tolist()]"
   ]
  },
  {
   "cell_type": "code",
   "execution_count": 52,
   "metadata": {},
   "outputs": [],
   "source": [
    "# predict_sdf = pd.concat([noinfo_similar_set,noinfo_bad,pos_pred])"
   ]
  },
  {
   "cell_type": "code",
   "execution_count": 53,
   "metadata": {},
   "outputs": [],
   "source": [
    "# PandasTools.WriteSDF(predict_sdf, 'ed_validation_RAX.sdf', molColName='ROMol', properties=list(predict_sdf.columns), idName='name')"
   ]
  }
 ],
 "metadata": {
  "kernelspec": {
   "display_name": "Python 3",
   "language": "python",
   "name": "python3"
  },
  "language_info": {
   "codemirror_mode": {
    "name": "ipython",
    "version": 3
   },
   "file_extension": ".py",
   "mimetype": "text/x-python",
   "name": "python",
   "nbconvert_exporter": "python",
   "pygments_lexer": "ipython3",
   "version": "3.6.13"
  }
 },
 "nbformat": 4,
 "nbformat_minor": 4
}
